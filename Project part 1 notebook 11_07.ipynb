{
 "cells": [
  {
   "cell_type": "markdown",
   "metadata": {},
   "source": [
    "Monitoring COVID-19 Infections through Wastewater Surveillance\n",
    "CMPSC 190DD/197A Project, Fall 2020\n",
    "Nick Bachelder, Anton de la Fuente, Zoe Holzer "
   ]
  },
  {
   "cell_type": "markdown",
   "metadata": {},
   "source": [
    "PART A: \n",
    "1. Using the model dynamics described in the previous section, and all the given and chosen parameters, simulate the behavior of the disease for 120 days for this single leaf node."
   ]
  },
  {
   "cell_type": "code",
   "execution_count": 1,
   "metadata": {},
   "outputs": [],
   "source": [
    "import numpy as np\n",
    "part1 = np.load(\"part1a.npz\")\n",
    "part1.files\n",
    "Ic_0 = part1[\"Ic_0\"]\n",
    "N = part1[\"N\"]\n",
    "gamma = part1[\"gamma\"]\n",
    "Lc = part1[\"Lc\"]\n",
    "Svc_0 = part1[\"Svc_0_pmf\"]"
   ]
  },
  {
   "cell_type": "code",
   "execution_count": 2,
   "metadata": {
    "scrolled": true
   },
   "outputs": [],
   "source": [
    "import pandas as pd\n",
    "S_0 = N-(Ic_0.sum())\n",
    "I_0 = Ic_0.sum()\n",
    "R_0 = 0\n",
    "data = pd.DataFrame(Svc_0)"
   ]
  },
  {
   "cell_type": "code",
   "execution_count": 3,
   "metadata": {},
   "outputs": [],
   "source": [
    "import random \n",
    "from random import Random\n",
    "random.seed(a=None, version=2)\n",
    "B0c = []\n",
    "B1c = []\n",
    "B2c = []\n",
    "B3c = []\n",
    "for i in range(4):\n",
    "    B0c.append(random.uniform(0, 0.25))\n",
    "    B1c.append(random.uniform(0.25, 0.5))\n",
    "    B2c.append(random.uniform(0.5, 0.75))\n",
    "    B3c.append(random.uniform(0.75, 1.0))\n",
    "    Bvc = np.array([B0c, B1c, B2c, B3c])\n",
    "for i in range(4):\n",
    "    Bvc[i].sort()\n",
    "Bvc = pd.DataFrame(Bvc)"
   ]
  },
  {
   "cell_type": "code",
   "execution_count": 28,
   "metadata": {},
   "outputs": [],
   "source": [
    "def S_rate(Svc, Ic, N, Bvc, gamma):\n",
    "    \"\"\"Calculate the rate of change of suceptible group split by vulnerability and comorbidity, return a\n",
    "    tuple where the first element is split on both categories, and the second element only split by comorbidity\"\"\"\n",
    "    #This makes sure that once population hits 0 it doesn't affect the differential\n",
    "    Svc[Svc < 0] = 0\n",
    "    dSvcdt = ((Bvc * Svc * Ic)*-1)/N\n",
    "    return dSvcdt"
   ]
  },
  {
   "cell_type": "code",
   "execution_count": 29,
   "metadata": {},
   "outputs": [],
   "source": [
    "def I_rate(dSvcdt, Ic, gamma):\n",
    "    \"\"\"This function takes in the rate of change of S, sums along the vulnerability axis, and subtracts \n",
    "    Ic*gamma\"\"\"\n",
    "    Ic[Ic < 0]= 0\n",
    "    dIcdt = -dSvcdt.sum() - gamma*Ic\n",
    "    return dIcdt"
   ]
  },
  {
   "cell_type": "code",
   "execution_count": 30,
   "metadata": {},
   "outputs": [],
   "source": [
    "def R_rate(Ic, gamma):\n",
    "    Ic[Ic < 0]= 0\n",
    "    dRdt = gamma * Ic.sum()\n",
    "    return dRdt"
   ]
  },
  {
   "cell_type": "code",
   "execution_count": 31,
   "metadata": {},
   "outputs": [],
   "source": [
    "def SIR_rates(Svc, Ic, N, Bvc, gamma):\n",
    "    dSvcdt = S_rate(Svc, Ic, N, Bvc, gamma)\n",
    "    dIcdt = I_rate(dSvcdt, Ic, gamma)\n",
    "    dRdt = R_rate(Ic, gamma)\n",
    "    return dSvcdt, dIcdt, dRdt"
   ]
  },
  {
   "cell_type": "code",
   "execution_count": 32,
   "metadata": {},
   "outputs": [],
   "source": [
    "def L_rate(Ic, Lc, N):\n",
    "    Lrate= (Ic*Lc).sum()\n",
    "    return Lrate"
   ]
  },
  {
   "cell_type": "code",
   "execution_count": 33,
   "metadata": {},
   "outputs": [],
   "source": [
    "def simulation(t, Svc, Ic, N, Bvc, gamma, Lc, I_0):\n",
    "    I = I_0\n",
    "    R = 0\n",
    "    S = Svc.sum().sum()\n",
    "    SvcOverTime=[]\n",
    "    IcOvertime=[]\n",
    "    LOverTime=[]\n",
    "    simulation = [[S, I, R]]\n",
    "    for i in range(t):\n",
    "        rates = SIR_rates(Svc, Ic, N, Bvc, gamma)\n",
    "        Lrate= L_rate(Ic, Lc, N)\n",
    "        Svc = Svc + rates[0]\n",
    "        S = Svc.sum().sum()\n",
    "        Ic = Ic + rates[1]\n",
    "        I = Ic.sum()\n",
    "        R = R + rates[2]\n",
    "        L=Lrate.sum()\n",
    "        simulation.append([S, I, R])\n",
    "        SvcOverTime.insert(i,Svc)\n",
    "        IcOvertime.insert(i,Ic)\n",
    "        LOverTime.insert(i,L)\n",
    "    results = pd.DataFrame(simulation, columns = [\"S\", \"I\", \"R\"])\n",
    "    return results, SvcOverTime, IcOvertime, LOverTime"
   ]
  },
  {
   "cell_type": "code",
   "execution_count": 10,
   "metadata": {
    "scrolled": true
   },
   "outputs": [],
   "source": [
    "#The Svc data multiplied by the population to get raw population values split in both dimensions\n",
    "t=120\n",
    "Svc = pd.DataFrame(Svc_0) * (N - I_0)\n",
    "Ic = Ic_0\n",
    "sim = simulation(t, Svc, Ic, N, Bvc, gamma, Lc,I_0)"
   ]
  },
  {
   "cell_type": "markdown",
   "metadata": {},
   "source": [
    "2. Plot Sv,c and Ic values over time. (You can plot all Sv,c on the same plot. Same for Ic.). Also plot the overall S, I, R and L values."
   ]
  },
  {
   "cell_type": "code",
   "execution_count": 11,
   "metadata": {},
   "outputs": [
    {
     "data": {
      "image/png": "[encoded data removed]",
      "text/plain": [
       "<Figure size 432x288 with 1 Axes>"
      ]
     },
     "metadata": {
      "needs_background": "light"
     },
     "output_type": "display_data"
    }
   ],
   "source": [
    "import matplotlib.pyplot as plt\n",
    "fig,ax=plt.subplots(sharex=True)\n",
    "for a in range(0,120,8):\n",
    "    for b in range(0,4):\n",
    "        ax.scatter(a,sim[1][a][b][0],c='black',s=10)\n",
    "        ax.scatter(a,sim[1][a][b][1],c='red',s=10)\n",
    "        ax.scatter(a,sim[1][a][b][2],c='blue',s=10)\n",
    "        ax.scatter(a,sim[1][a][b][3],c='green',s=10)\n",
    "plt.title('Suseptable people over time by Vulnerability and Comorbidity Groups')\n",
    "plt.ylabel('Number of People')\n",
    "plt.xlabel('Day')\n",
    "plt.show()"
   ]
  },
  {
   "cell_type": "code",
   "execution_count": 12,
   "metadata": {},
   "outputs": [
    {
     "data": {
      "image/png": "[encoded data removed]",
      "text/plain": [
       "<Figure size 432x288 with 1 Axes>"
      ]
     },
     "metadata": {
      "needs_background": "light"
     },
     "output_type": "display_data"
    }
   ],
   "source": [
    "fig,ax=plt.subplots(sharex=True)\n",
    "for a in range(0,120,8):\n",
    "    ax.scatter(a,sim[2][a][0],c='black',s=10)\n",
    "    ax.scatter(a,sim[2][a][1],c='red',s=10)\n",
    "    ax.scatter(a,sim[2][a][2],c='blue',s=10)\n",
    "    ax.scatter(a,sim[2][a][3],c='yellow',s=10) \n",
    "plt.title('Infected People Over Time by Comorbidity Group')\n",
    "plt.ylabel('Number of People')\n",
    "plt.xlabel('Day')\n",
    "plt.show()"
   ]
  },
  {
   "cell_type": "code",
   "execution_count": 13,
   "metadata": {},
   "outputs": [
    {
     "data": {
      "image/png": "[encoded data removed]",
      "text/plain": [
       "<Figure size 432x288 with 1 Axes>"
      ]
     },
     "metadata": {
      "needs_background": "light"
     },
     "output_type": "display_data"
    }
   ],
   "source": [
    "fig,ax=plt.subplots(sharex=True)\n",
    "SIR=np.array(sim[0])\n",
    "for a in range(0,120,8):\n",
    "    ax.scatter(a,SIR[a][0],c='black',s=10)\n",
    "    ax.scatter(a,SIR[a][1],c='red',s=10)\n",
    "    ax.scatter(a,SIR[a][2],c='blue',s=10)\n",
    "    ax.scatter(a,sim[3][a],c='yellow',s=10)\n",
    "plt.title('Suseptable, Infected, Recovered, and Viral Load Over Time')\n",
    "plt.ylabel('Number of People')\n",
    "plt.xlabel('Day')\n",
    "plt.show()"
   ]
  },
  {
   "cell_type": "markdown",
   "metadata": {},
   "source": [
    "**3. Do the shapes of S, I, R look similar to what you expected? Which of these plots is the “curve” people refer to when they say “flatten the curve”?**\n",
    "\n",
    "The shapes of the model look about right except that we were not expecting the huge difference in scale between S and I or R after 120 days. The overall shape however is what we expected based off of what we learned in class and off of over COVID models currently available. Moreover, it is clear that the comorbidity groups largely impact the infected population over time, which makes perfect sense. When people say 'flatten the curve,' they are refering to the infected population curve (in blue on the last plot)."
   ]
  },
  {
   "cell_type": "markdown",
   "metadata": {},
   "source": [
    "**4. Do you observe that some Sv,c compartments converged to zero while others converged to a positive value? Why do you think that is?**\n",
    "\n",
    "Yes, we did observe some compartments converging to positive values other then zero. We believe that is because specific βv,c values have a large affect on the overall model, especially because it is the reciprocal of the typical time until an infected person recovers, making it play a large part on the time series."
   ]
  },
  {
   "cell_type": "code",
   "execution_count": 14,
   "metadata": {},
   "outputs": [
    {
     "data": {
      "text/html": [
       "<div>\n",
       "<style scoped>\n",
       "    .dataframe tbody tr th:only-of-type {\n",
       "        vertical-align: middle;\n",
       "    }\n",
       "\n",
       "    .dataframe tbody tr th {\n",
       "        vertical-align: top;\n",
       "    }\n",
       "\n",
       "    .dataframe thead th {\n",
       "        text-align: right;\n",
       "    }\n",
       "</style>\n",
       "<table border=\"1\" class=\"dataframe\">\n",
       "  <thead>\n",
       "    <tr style=\"text-align: right;\">\n",
       "      <th></th>\n",
       "      <th>0</th>\n",
       "      <th>1</th>\n",
       "      <th>2</th>\n",
       "      <th>3</th>\n",
       "    </tr>\n",
       "  </thead>\n",
       "  <tbody>\n",
       "    <tr>\n",
       "      <th>0</th>\n",
       "      <td>0.995425</td>\n",
       "      <td>0.885317</td>\n",
       "      <td>0.653172</td>\n",
       "      <td>0.963415</td>\n",
       "    </tr>\n",
       "    <tr>\n",
       "      <th>1</th>\n",
       "      <td>0.981180</td>\n",
       "      <td>0.715957</td>\n",
       "      <td>0.313226</td>\n",
       "      <td>0.916164</td>\n",
       "    </tr>\n",
       "    <tr>\n",
       "      <th>2</th>\n",
       "      <td>0.970388</td>\n",
       "      <td>0.547652</td>\n",
       "      <td>0.114476</td>\n",
       "      <td>0.870937</td>\n",
       "    </tr>\n",
       "    <tr>\n",
       "      <th>3</th>\n",
       "      <td>0.957746</td>\n",
       "      <td>0.474345</td>\n",
       "      <td>0.048078</td>\n",
       "      <td>0.828264</td>\n",
       "    </tr>\n",
       "  </tbody>\n",
       "</table>\n",
       "</div>"
      ],
      "text/plain": [
       "          0         1         2         3\n",
       "0  0.995425  0.885317  0.653172  0.963415\n",
       "1  0.981180  0.715957  0.313226  0.916164\n",
       "2  0.970388  0.547652  0.114476  0.870937\n",
       "3  0.957746  0.474345  0.048078  0.828264"
      ]
     },
     "execution_count": 14,
     "metadata": {},
     "output_type": "execute_result"
    }
   ],
   "source": [
    "## Print the percentages of population that never got infected for all compartments (i.e. all values\n",
    "## of v and c)\n",
    "\n",
    "OriginalSvcPopulations = pd.DataFrame(Svc_0) * (N - I_0)\n",
    "SvcFinalDay = sim[1][119]\n",
    "PercentNotInfectedvc = SvcFinalDay / OriginalSvcPopulations\n",
    "PercentNotInfectedvc"
   ]
  },
  {
   "cell_type": "code",
   "execution_count": 15,
   "metadata": {},
   "outputs": [],
   "source": [
    "## Redo but multiply all Beta values by 1/4. How does this change plots?\n",
    "\n",
    "BvcRedo = Bvc * (1/4)\n",
    "\n",
    "Svc = pd.DataFrame(Svc_0) * (N - I_0)\n",
    "Ic = Ic_0\n",
    "I = I_0\n",
    "S = Svc.sum().sum()\n",
    "R = 0\n",
    "simRedo = simulation(t, Svc, Ic, N, BvcRedo, gamma, Lc,I_0)"
   ]
  },
  {
   "cell_type": "code",
   "execution_count": 16,
   "metadata": {},
   "outputs": [
    {
     "data": {
      "image/png": "[encoded data removed]",
      "text/plain": [
       "<Figure size 432x288 with 1 Axes>"
      ]
     },
     "metadata": {
      "needs_background": "light"
     },
     "output_type": "display_data"
    }
   ],
   "source": [
    "import matplotlib.pyplot as plt\n",
    "fig,ax=plt.subplots(sharex=True)\n",
    "for a in range(0,120,8):\n",
    "    for b in range(0,4):\n",
    "        ax.scatter(a,simRedo[1][a][b][0],c='black',s=10)\n",
    "        ax.scatter(a,simRedo[1][a][b][1],c='red',s=10)\n",
    "        ax.scatter(a,simRedo[1][a][b][2],c='blue',s=10)\n",
    "        ax.scatter(a,simRedo[1][a][b][3],c='green',s=10)\n",
    "plt.title('Suseptible people over time by Vulnerability and Comorbidity Groups')\n",
    "plt.ylabel('Number of People')\n",
    "plt.xlabel('Day')\n",
    "\n",
    "plt.show()"
   ]
  },
  {
   "cell_type": "code",
   "execution_count": 17,
   "metadata": {},
   "outputs": [
    {
     "data": {
      "image/png": "[encoded data removed]",
      "text/plain": [
       "<Figure size 432x288 with 1 Axes>"
      ]
     },
     "metadata": {
      "needs_background": "light"
     },
     "output_type": "display_data"
    }
   ],
   "source": [
    "fig,ax=plt.subplots(sharex=True)\n",
    "for a in range(0,120,8):\n",
    "    ax.scatter(a,simRedo[2][a][0],c='black',s=10)\n",
    "    ax.scatter(a,simRedo[2][a][1],c='red',s=10)\n",
    "    ax.scatter(a,simRedo[2][a][2],c='blue',s=10)\n",
    "    ax.scatter(a,simRedo[2][a][3],c='yellow',s=10) \n",
    "plt.ylim(0, 1000)\n",
    "\n",
    "plt.title('Infected People Over Time by Comorbidity Group')\n",
    "plt.ylabel('Number of People')\n",
    "plt.xlabel('Day')\n",
    "\n",
    "plt.show()"
   ]
  },
  {
   "cell_type": "code",
   "execution_count": 18,
   "metadata": {
    "scrolled": true
   },
   "outputs": [
    {
     "data": {
      "image/png": "[encoded data removed]",
      "text/plain": [
       "<Figure size 432x288 with 1 Axes>"
      ]
     },
     "metadata": {
      "needs_background": "light"
     },
     "output_type": "display_data"
    }
   ],
   "source": [
    "fig,ax=plt.subplots(sharex=True)\n",
    "SIRRedo=simRedo[0]\n",
    "for a in range(0,120,8):\n",
    "    ax.scatter(a,SIR[a][0],c='black',s=10)\n",
    "    ax.scatter(a,SIR[a][1],c='red',s=10)\n",
    "    ax.scatter(a,SIR[a][2],c='blue',s=10)\n",
    "    ax.scatter(a,simRedo[3][a],c='yellow',s=10)\n",
    "    \n",
    "plt.title('Suseptable, Infected, Recovered, and Viral Load Over Time')\n",
    "plt.ylabel('Number of People')\n",
    "plt.xlabel('Day')\n",
    "plt.show()"
   ]
  },
  {
   "cell_type": "markdown",
   "metadata": {},
   "source": [
    "What happened to the S, I, R plots? Did the “curve” flatten compared to the previous case?\n",
    "\n",
    "The plots changed drastically dy reducing the beta rate. Since the disease was being spread at a much slower rate, all v,c groups declined in cases over time, and the curve most definetly 'flattened.'"
   ]
  },
  {
   "cell_type": "code",
   "execution_count": 19,
   "metadata": {},
   "outputs": [],
   "source": [
    "## Print the percentages of population that never got infected withthese βv,c values.\n",
    "\n",
    "OriginalSvcPopulations = pd.DataFrame(Svc_0) * (N - I_0)\n",
    "SvcFinalDay = simRedo[1][119]\n",
    "PercentNotInfectedvcRedo = SvcFinalDay / OriginalSvcPopulations"
   ]
  },
  {
   "cell_type": "code",
   "execution_count": 20,
   "metadata": {},
   "outputs": [
    {
     "data": {
      "text/html": [
       "<div>\n",
       "<style scoped>\n",
       "    .dataframe tbody tr th:only-of-type {\n",
       "        vertical-align: middle;\n",
       "    }\n",
       "\n",
       "    .dataframe tbody tr th {\n",
       "        vertical-align: top;\n",
       "    }\n",
       "\n",
       "    .dataframe thead th {\n",
       "        text-align: right;\n",
       "    }\n",
       "</style>\n",
       "<table border=\"1\" class=\"dataframe\">\n",
       "  <thead>\n",
       "    <tr style=\"text-align: right;\">\n",
       "      <th></th>\n",
       "      <th>0</th>\n",
       "      <th>1</th>\n",
       "      <th>2</th>\n",
       "      <th>3</th>\n",
       "    </tr>\n",
       "  </thead>\n",
       "  <tbody>\n",
       "    <tr>\n",
       "      <th>0</th>\n",
       "      <td>0.995425</td>\n",
       "      <td>0.885317</td>\n",
       "      <td>0.653172</td>\n",
       "      <td>0.963415</td>\n",
       "    </tr>\n",
       "    <tr>\n",
       "      <th>1</th>\n",
       "      <td>0.981180</td>\n",
       "      <td>0.715957</td>\n",
       "      <td>0.313226</td>\n",
       "      <td>0.916164</td>\n",
       "    </tr>\n",
       "    <tr>\n",
       "      <th>2</th>\n",
       "      <td>0.970388</td>\n",
       "      <td>0.547652</td>\n",
       "      <td>0.114476</td>\n",
       "      <td>0.870937</td>\n",
       "    </tr>\n",
       "    <tr>\n",
       "      <th>3</th>\n",
       "      <td>0.957746</td>\n",
       "      <td>0.474345</td>\n",
       "      <td>0.048078</td>\n",
       "      <td>0.828264</td>\n",
       "    </tr>\n",
       "  </tbody>\n",
       "</table>\n",
       "</div>"
      ],
      "text/plain": [
       "          0         1         2         3\n",
       "0  0.995425  0.885317  0.653172  0.963415\n",
       "1  0.981180  0.715957  0.313226  0.916164\n",
       "2  0.970388  0.547652  0.114476  0.870937\n",
       "3  0.957746  0.474345  0.048078  0.828264"
      ]
     },
     "execution_count": 20,
     "metadata": {},
     "output_type": "execute_result"
    }
   ],
   "source": [
    "PercentNotInfectedvc ## Many less people in each group were infected at a lower beta value"
   ]
  },
  {
   "cell_type": "code",
   "execution_count": 73,
   "metadata": {},
   "outputs": [
    {
     "name": "stdout",
     "output_type": "stream",
     "text": [
      "[[24953. 14910.  4949.  4935.]\n",
      " [24918. 14969.  4936.  4914.]\n",
      " [24970. 14934.  4961.  4953.]\n",
      " [24941. 14974.  4923.  4962.]\n",
      " [24980. 14937.  4930.  4985.]\n",
      " [19965. 14969.  9922.  4989.]\n",
      " [19950. 14945.  9907.  4974.]\n",
      " [19983. 14911.  9935.  4975.]\n",
      " [19930. 14973.  9934.  4903.]\n",
      " [19980. 14982.  9968.  4969.]\n",
      " [14924. 14987.  9939.  9985.]\n",
      " [14914. 14952.  9964.  9911.]\n",
      " [14904. 14985.  9956.  9929.]\n",
      " [14919. 14947.  9981.  9964.]\n",
      " [14971. 14956.  9901.  9964.]\n",
      " [ 4975.  9966. 14984. 19972.]\n",
      " [ 4977.  9916. 14929. 19969.]\n",
      " [ 4909.  9930. 14910. 19910.]\n",
      " [ 4968.  9989. 14932. 19919.]\n",
      " [ 4966.  9963. 14952. 19959.]]\n"
     ]
    }
   ],
   "source": [
    "import numpy as np\n",
    "part2 = np.load(\"part1b.npz\")\n",
    "part2.files\n",
    "Ic_0 = part2[\"Ic_0\"]\n",
    "N = part2[\"N\"]\n",
    "gamma = part2[\"gamma\"]\n",
    "Lc = part2[\"Lc\"]\n",
    "L_validation = part2[\"L_validation\"]\n",
    "L_test = part2[\"L_test\"]\n",
    "betas_validation = part2[\"betas_validation\"]\n",
    "pmfs = [[0.5, 0.3, 0.1, 0.1],[0.4, 0.3, 0.2, 0.1],[0.3,0.3,0.2,0.2],[0.1, 0.2, 0.3, 0.4]]\n",
    "SVC0 = []\n",
    "for item in pmfs:\n",
    "    for i in range(5):\n",
    "        SVC0.append(item)\n",
    "SVC0 = np.array(SVC0)\n",
    "Svc = (SVC0 * N) - Ic_0\n",
    "Lc = np.tile(Lc, (5, 1))\n",
    "I_0 = Ic_0.sum()\n",
    "print(Svc)"
   ]
  },
  {
   "cell_type": "code",
   "execution_count": 74,
   "metadata": {},
   "outputs": [],
   "source": [
    "def S_rate(Svc, Ic, N, Bvc, gamma):\n",
    "    \"\"\"Calculate the rate of change of suceptible group split by vulnerability and comorbidity, return a\n",
    "    tuple where the first element is split on both categories, and the second element only split by comorbidity\"\"\"\n",
    "    #This makes sure that once population hits 0 it doesn't affect the differential\n",
    "    Svc[Svc < 0] = 0\n",
    "    dSvcdt = ((Bvc * Svc * Ic)*-1)/N\n",
    "    return dSvcdt"
   ]
  },
  {
   "cell_type": "code",
   "execution_count": 75,
   "metadata": {},
   "outputs": [],
   "source": [
    "def SIR_model(Svc, Ic, N, Bvc, gamma):\n",
    "    dSvcdt = S_rate(Svc, Ic, N, Bvc, gamma)\n",
    "    dIcdt = I_rate(dSvcdt, Ic, gamma)\n",
    "    dRdt = R_rate(Ic, gamma)\n",
    "    return np.array([dSvcdt, dIcdt, dRdt])"
   ]
  },
  {
   "cell_type": "markdown",
   "metadata": {},
   "source": [
    "from scipy.integrate import solve_ivp\n",
    "\n",
    "t=np.linspace(0,119,120)\n",
    "\n",
    "initial_I=13\n",
    "initial_R=0\n",
    "# make sure you compute initial_S it this way\n",
    "initial_S=N-initial_I-initial_R\n",
    "gamma = float(gamma)\n",
    "count = 0\n",
    "# notice that each initial condition is \n",
    "# for the corresponding equation at the same index\n",
    "initial_conditions=np.array([SVC0, Ic_0, 0])\n",
    "for beta_0, beta_1, beta_2, beta_3 in product(np.linspace(0,1,21),np.linspace(0,1,21),np.linspace(0,1,21),np.linspace(0,1,21)):\n",
    "    %debug\n",
    "    soln_0 = solve_ivp(SIR_model, (t[0], t[-1]), initial_conditions,\\\n",
    "                                 t_eval=t, args=(beta_0, gamma))\n",
    "    soln_1 = solve_ivp(SIR_model, (t[0], t[-1]), initial_conditions,\\\n",
    "                                 t_eval=t, args=(beta_1, gamma))\n",
    "    soln_2 = solve_ivp(SIR_model, (t[0], t[-1]), initial_conditions,\\\n",
    "                                 t_eval=t, args=(beta_2, gamma))\n",
    "    soln_3 = solve_ivp(SIR_model, (t[0], t[-1]), initial_conditions,\\\n",
    "                                 t_eval=t, args=(beta_3, gamma))\n",
    "    count += 1\n",
    "    \n",
    "\n",
    "    S_predicted['iteration{}'.format(count)]=soln_obj.y[0]\n",
    "    I_predicted['iteration{}'.format(count)]=soln_obj.y[1]\n",
    "    R_predicted['iteration{}'.format(count)]=soln_obj.y[2]\n",
    "    L_predicted['iteration{}'.format(count)]=Lc*I_predicted\n",
    "\n",
    "# if you didn't specify t_eval you would need to call\n",
    "# soln_obj = solve_ivp(SIR_model, (t[0], t[-1]), initial_conditions,\\\n",
    "#                             dense_output=True, args=(beta_true, gamma_true))\n",
    "# soln_obj.sol(t)"
   ]
  },
  {
   "cell_type": "code",
   "execution_count": 86,
   "metadata": {},
   "outputs": [],
   "source": [
    "I0c = []  \n",
    "I1c = []  \n",
    "I2c = []  \n",
    "I3c = []  \n",
    "S0c = []\n",
    "S1c = []\n",
    "S2c = []\n",
    "S3c = []\n",
    "for i in range(5):\n",
    "    I0c.append(Ic_0[i])  \n",
    "    S0c.append(Svc[i])\n",
    "for i in range(5,10):\n",
    "    I1c.append(Ic_0[i])  \n",
    "    S1c.append(Svc[i])\n",
    "for i in range(10,15):\n",
    "    I2c.append(Ic_0[i])  \n",
    "    S2c.append(Svc[i])\n",
    "for i in range(15,20):\n",
    "    I3c.append(Ic_0[i])  \n",
    "    S3c.append(Svc[i])\n",
    "I0c=np.array(I0c)\n",
    "S0c=np.array(S0c)"
   ]
  },
  {
   "cell_type": "code",
   "execution_count": 87,
   "metadata": {},
   "outputs": [
    {
     "name": "stderr",
     "output_type": "stream",
     "text": [
      "<ipython-input-87-f053ba302a2c>:18: VisibleDeprecationWarning: Creating an ndarray from ragged nested sequences (which is a list-or-tuple of lists-or-tuples-or ndarrays with different lengths or shapes) is deprecated. If you meant to do this, you must specify 'dtype=object' when creating the ndarray\n",
      "  initial_conditions=np.array([S0c[i], I0c[i], 0])\n"
     ]
    },
    {
     "ename": "ValueError",
     "evalue": "setting an array element with a sequence.",
     "output_type": "error",
     "traceback": [
      "\u001b[1;31m---------------------------------------------------------------------------\u001b[0m",
      "\u001b[1;31mTypeError\u001b[0m                                 Traceback (most recent call last)",
      "\u001b[1;31mTypeError\u001b[0m: only size-1 arrays can be converted to Python scalars",
      "\nThe above exception was the direct cause of the following exception:\n",
      "\u001b[1;31mValueError\u001b[0m                                Traceback (most recent call last)",
      "\u001b[1;32m<ipython-input-87-f053ba302a2c>\u001b[0m in \u001b[0;36m<module>\u001b[1;34m\u001b[0m\n\u001b[0;32m     17\u001b[0m     \u001b[1;32mfor\u001b[0m \u001b[0mi\u001b[0m \u001b[1;32min\u001b[0m \u001b[0mrange\u001b[0m\u001b[1;33m(\u001b[0m\u001b[1;36m5\u001b[0m\u001b[1;33m)\u001b[0m\u001b[1;33m:\u001b[0m\u001b[1;33m\u001b[0m\u001b[1;33m\u001b[0m\u001b[0m\n\u001b[0;32m     18\u001b[0m         \u001b[0minitial_conditions\u001b[0m\u001b[1;33m=\u001b[0m\u001b[0mnp\u001b[0m\u001b[1;33m.\u001b[0m\u001b[0marray\u001b[0m\u001b[1;33m(\u001b[0m\u001b[1;33m[\u001b[0m\u001b[0mS0c\u001b[0m\u001b[1;33m[\u001b[0m\u001b[0mi\u001b[0m\u001b[1;33m]\u001b[0m\u001b[1;33m,\u001b[0m \u001b[0mI0c\u001b[0m\u001b[1;33m[\u001b[0m\u001b[0mi\u001b[0m\u001b[1;33m]\u001b[0m\u001b[1;33m,\u001b[0m \u001b[1;36m0\u001b[0m\u001b[1;33m]\u001b[0m\u001b[1;33m)\u001b[0m\u001b[1;33m\u001b[0m\u001b[1;33m\u001b[0m\u001b[0m\n\u001b[1;32m---> 19\u001b[1;33m         soln_0 = solve_ivp(SIR_model, (t[0], t[-1]), initial_conditions,\\\n\u001b[0m\u001b[0;32m     20\u001b[0m             t_eval=t, args=(beta, gamma))\n\u001b[0;32m     21\u001b[0m     \u001b[1;31m#initial_conditions=np.array([S1c[i], I1c[i], 0])\u001b[0m\u001b[1;33m\u001b[0m\u001b[1;33m\u001b[0m\u001b[1;33m\u001b[0m\u001b[0m\n",
      "\u001b[1;32m~\\Miniconda\\envs\\zmholzerenv\\lib\\site-packages\\scipy\\integrate\\_ivp\\ivp.py\u001b[0m in \u001b[0;36msolve_ivp\u001b[1;34m(fun, t_span, y0, method, t_eval, dense_output, events, vectorized, args, **options)\u001b[0m\n\u001b[0;32m    540\u001b[0m         \u001b[0mmethod\u001b[0m \u001b[1;33m=\u001b[0m \u001b[0mMETHODS\u001b[0m\u001b[1;33m[\u001b[0m\u001b[0mmethod\u001b[0m\u001b[1;33m]\u001b[0m\u001b[1;33m\u001b[0m\u001b[1;33m\u001b[0m\u001b[0m\n\u001b[0;32m    541\u001b[0m \u001b[1;33m\u001b[0m\u001b[0m\n\u001b[1;32m--> 542\u001b[1;33m     \u001b[0msolver\u001b[0m \u001b[1;33m=\u001b[0m \u001b[0mmethod\u001b[0m\u001b[1;33m(\u001b[0m\u001b[0mfun\u001b[0m\u001b[1;33m,\u001b[0m \u001b[0mt0\u001b[0m\u001b[1;33m,\u001b[0m \u001b[0my0\u001b[0m\u001b[1;33m,\u001b[0m \u001b[0mtf\u001b[0m\u001b[1;33m,\u001b[0m \u001b[0mvectorized\u001b[0m\u001b[1;33m=\u001b[0m\u001b[0mvectorized\u001b[0m\u001b[1;33m,\u001b[0m \u001b[1;33m**\u001b[0m\u001b[0moptions\u001b[0m\u001b[1;33m)\u001b[0m\u001b[1;33m\u001b[0m\u001b[1;33m\u001b[0m\u001b[0m\n\u001b[0m\u001b[0;32m    543\u001b[0m \u001b[1;33m\u001b[0m\u001b[0m\n\u001b[0;32m    544\u001b[0m     \u001b[1;32mif\u001b[0m \u001b[0mt_eval\u001b[0m \u001b[1;32mis\u001b[0m \u001b[1;32mNone\u001b[0m\u001b[1;33m:\u001b[0m\u001b[1;33m\u001b[0m\u001b[1;33m\u001b[0m\u001b[0m\n",
      "\u001b[1;32m~\\Miniconda\\envs\\zmholzerenv\\lib\\site-packages\\scipy\\integrate\\_ivp\\rk.py\u001b[0m in \u001b[0;36m__init__\u001b[1;34m(self, fun, t0, y0, t_bound, max_step, rtol, atol, vectorized, first_step, **extraneous)\u001b[0m\n\u001b[0;32m     87\u001b[0m                  first_step=None, **extraneous):\n\u001b[0;32m     88\u001b[0m         \u001b[0mwarn_extraneous\u001b[0m\u001b[1;33m(\u001b[0m\u001b[0mextraneous\u001b[0m\u001b[1;33m)\u001b[0m\u001b[1;33m\u001b[0m\u001b[1;33m\u001b[0m\u001b[0m\n\u001b[1;32m---> 89\u001b[1;33m         super(RungeKutta, self).__init__(fun, t0, y0, t_bound, vectorized,\n\u001b[0m\u001b[0;32m     90\u001b[0m                                          support_complex=True)\n\u001b[0;32m     91\u001b[0m         \u001b[0mself\u001b[0m\u001b[1;33m.\u001b[0m\u001b[0my_old\u001b[0m \u001b[1;33m=\u001b[0m \u001b[1;32mNone\u001b[0m\u001b[1;33m\u001b[0m\u001b[1;33m\u001b[0m\u001b[0m\n",
      "\u001b[1;32m~\\Miniconda\\envs\\zmholzerenv\\lib\\site-packages\\scipy\\integrate\\_ivp\\base.py\u001b[0m in \u001b[0;36m__init__\u001b[1;34m(self, fun, t0, y0, t_bound, vectorized, support_complex)\u001b[0m\n\u001b[0;32m    117\u001b[0m         \u001b[0mself\u001b[0m\u001b[1;33m.\u001b[0m\u001b[0mt_old\u001b[0m \u001b[1;33m=\u001b[0m \u001b[1;32mNone\u001b[0m\u001b[1;33m\u001b[0m\u001b[1;33m\u001b[0m\u001b[0m\n\u001b[0;32m    118\u001b[0m         \u001b[0mself\u001b[0m\u001b[1;33m.\u001b[0m\u001b[0mt\u001b[0m \u001b[1;33m=\u001b[0m \u001b[0mt0\u001b[0m\u001b[1;33m\u001b[0m\u001b[1;33m\u001b[0m\u001b[0m\n\u001b[1;32m--> 119\u001b[1;33m         \u001b[0mself\u001b[0m\u001b[1;33m.\u001b[0m\u001b[0m_fun\u001b[0m\u001b[1;33m,\u001b[0m \u001b[0mself\u001b[0m\u001b[1;33m.\u001b[0m\u001b[0my\u001b[0m \u001b[1;33m=\u001b[0m \u001b[0mcheck_arguments\u001b[0m\u001b[1;33m(\u001b[0m\u001b[0mfun\u001b[0m\u001b[1;33m,\u001b[0m \u001b[0my0\u001b[0m\u001b[1;33m,\u001b[0m \u001b[0msupport_complex\u001b[0m\u001b[1;33m)\u001b[0m\u001b[1;33m\u001b[0m\u001b[1;33m\u001b[0m\u001b[0m\n\u001b[0m\u001b[0;32m    120\u001b[0m         \u001b[0mself\u001b[0m\u001b[1;33m.\u001b[0m\u001b[0mt_bound\u001b[0m \u001b[1;33m=\u001b[0m \u001b[0mt_bound\u001b[0m\u001b[1;33m\u001b[0m\u001b[1;33m\u001b[0m\u001b[0m\n\u001b[0;32m    121\u001b[0m         \u001b[0mself\u001b[0m\u001b[1;33m.\u001b[0m\u001b[0mvectorized\u001b[0m \u001b[1;33m=\u001b[0m \u001b[0mvectorized\u001b[0m\u001b[1;33m\u001b[0m\u001b[1;33m\u001b[0m\u001b[0m\n",
      "\u001b[1;32m~\\Miniconda\\envs\\zmholzerenv\\lib\\site-packages\\scipy\\integrate\\_ivp\\base.py\u001b[0m in \u001b[0;36mcheck_arguments\u001b[1;34m(fun, y0, support_complex)\u001b[0m\n\u001b[0;32m     12\u001b[0m     \u001b[1;32melse\u001b[0m\u001b[1;33m:\u001b[0m\u001b[1;33m\u001b[0m\u001b[1;33m\u001b[0m\u001b[0m\n\u001b[0;32m     13\u001b[0m         \u001b[0mdtype\u001b[0m \u001b[1;33m=\u001b[0m \u001b[0mfloat\u001b[0m\u001b[1;33m\u001b[0m\u001b[1;33m\u001b[0m\u001b[0m\n\u001b[1;32m---> 14\u001b[1;33m     \u001b[0my0\u001b[0m \u001b[1;33m=\u001b[0m \u001b[0my0\u001b[0m\u001b[1;33m.\u001b[0m\u001b[0mastype\u001b[0m\u001b[1;33m(\u001b[0m\u001b[0mdtype\u001b[0m\u001b[1;33m,\u001b[0m \u001b[0mcopy\u001b[0m\u001b[1;33m=\u001b[0m\u001b[1;32mFalse\u001b[0m\u001b[1;33m)\u001b[0m\u001b[1;33m\u001b[0m\u001b[1;33m\u001b[0m\u001b[0m\n\u001b[0m\u001b[0;32m     15\u001b[0m \u001b[1;33m\u001b[0m\u001b[0m\n\u001b[0;32m     16\u001b[0m     \u001b[1;32mif\u001b[0m \u001b[0my0\u001b[0m\u001b[1;33m.\u001b[0m\u001b[0mndim\u001b[0m \u001b[1;33m!=\u001b[0m \u001b[1;36m1\u001b[0m\u001b[1;33m:\u001b[0m\u001b[1;33m\u001b[0m\u001b[1;33m\u001b[0m\u001b[0m\n",
      "\u001b[1;31mValueError\u001b[0m: setting an array element with a sequence."
     ]
    }
   ],
   "source": [
    "#grid search\n",
    "from itertools import combinations\n",
    "import numpy as np\n",
    "from sklearn.metrics import mean_squared_error\n",
    "from scipy.integrate import solve_ivp\n",
    "\n",
    "beta_grid= np.linspace(0,1,20)\n",
    "t=np.linspace(0,119,120)\n",
    "mmse=np.inf\n",
    "optimal_beta = np.nan\n",
    "simTrialsL = []\n",
    "modelled_betas = np.array([])\n",
    "\n",
    "#fill out these loops\n",
    "for beta_0, beta_1, beta_2, beta_3 in combinations(np.linspace(0,1,21),4):\n",
    "    beta = [beta_0, beta_1, beta_2, beta_3]\n",
    "    for i in range(5):\n",
    "        initial_conditions=np.array([S0c[i], I0c[i], 0])\n",
    "        soln_0 = solve_ivp(SIR_model, (t[0], t[-1]), initial_conditions,\\\n",
    "            t_eval=t, args=(beta, gamma))\n",
    "    #initial_conditions=np.array([S1c[i], I1c[i], 0])\n",
    "#     soln_1 = solve_ivp(SIR_model, (t[0], t[-1]), initial_conditions,\\\n",
    "#         t_eval=t, args=(beta_1, gamma))\n",
    "#     soln_2 = solve_ivp(SIR_model, (t[0], t[-1]), initial_conditions,\\\n",
    "#         t_eval=t, args=(beta_2, gamma))\n",
    "#     soln_3 = solve_ivp(SIR_model, (t[0], t[-1]), initial_conditions,\\\n",
    "#         t_eval=t, args=(beta_3, gamma))\n",
    "#         simTrialsL.append(simTrial[3])\n",
    "#         predloop_start = time.time_ns()\n",
    "#         for prediction in simTrialsL:\n",
    "#             local_mmse = np.nan\n",
    "#             mse = mean_squared_error(L_validation[i],prediction)\n",
    "#             local_mmse = mse if mse < local_mmse else local_mmse\n",
    "#             (mmse, optimal_beta) = (local_mmse, beta) if (local_mmse < mmse) else (mmse,optimal_beta)\n",
    "#         predloop_end = time.time_ns()\n",
    "#         print('Prediction loop', j, 'duration:')\n",
    "#         print(predloop_end - predloop_start/100)\n",
    "#         print()\n",
    "#         np.append(modelled_betas, (mmse, optimal_beta))"
   ]
  },
  {
   "cell_type": "code",
   "execution_count": null,
   "metadata": {},
   "outputs": [],
   "source": []
  }
 ],
 "metadata": {
  "kernelspec": {
   "display_name": "Python 3",
   "language": "python",
   "name": "python3"
  },
  "language_info": {
   "codemirror_mode": {
    "name": "ipython",
    "version": 3
   },
   "file_extension": ".py",
   "mimetype": "text/x-python",
   "name": "python",
   "nbconvert_exporter": "python",
   "pygments_lexer": "ipython3",
   "version": "3.8.5"
  }
 },
 "nbformat": 4,
 "nbformat_minor": 4
}
